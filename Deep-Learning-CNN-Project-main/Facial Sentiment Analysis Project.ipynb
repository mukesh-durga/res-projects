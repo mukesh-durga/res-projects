{
  "nbformat": 4,
  "nbformat_minor": 0,
  "metadata": {
    "colab": {
      "name": "Facial Sentiment Analysis.ipynb",
      "private_outputs": true,
      "provenance": [],
      "collapsed_sections": []
    },
    "kernelspec": {
      "name": "python3",
      "display_name": "Python 3"
    },
    "language_info": {
      "name": "python"
    },
    "accelerator": "GPU"
  },
  "cells": [
    {
      "cell_type": "markdown",
      "metadata": {
        "id": "x-d7UBxsp_ms"
      },
      "source": [
        "Code by Kartik Kumar Srivastava <br>\n",
        "**Project: Facial Sentiment Analysis** <br>\n",
        "This Project is based on CNN and can identify the facial features of a human face and predict their mood, based on facial features"
      ]
    },
    {
      "cell_type": "code",
      "metadata": {
        "id": "0rMFqLVHpyA1"
      },
      "source": [
        "import numpy as np\n",
        "import pandas as pd\n",
        "import matplotlib.pyplot as plt\n",
        "import os\n",
        "import warnings\n",
        "warnings.filterwarnings('ignore')"
      ],
      "execution_count": null,
      "outputs": []
    },
    {
      "cell_type": "code",
      "metadata": {
        "id": "37ot7BbU47CQ"
      },
      "source": [
        "import numpy as np\n",
        "import pandas as pd\n",
        "import os\n",
        "import tensorflow as tf\n",
        "from keras.preprocessing.image import ImageDataGenerator, load_img\n",
        "from keras.layers import Conv2D, Dense, BatchNormalization, Activation, Dropout, MaxPooling2D, Flatten\n",
        "from keras import regularizers\n",
        "from keras.callbacks import ModelCheckpoint, CSVLogger, TensorBoard, EarlyStopping, ReduceLROnPlateau\n",
        "import datetime\n",
        "import matplotlib.pyplot as plt"
      ],
      "execution_count": null,
      "outputs": []
    },
    {
      "cell_type": "code",
      "metadata": {
        "id": "RcOSXKfJ1inX"
      },
      "source": [
        "from google.colab import drive\n",
        "drive.mount('/content/gdrive')"
      ],
      "execution_count": null,
      "outputs": []
    },
    {
      "cell_type": "code",
      "metadata": {
        "id": "FPy5Id-O2Dfb"
      },
      "source": [
        "!unzip gdrive/My\\ Drive/Google\\ CoLab/Dataset\\ ZIP/Facial\\ Sentiment\\ Analysis.zip"
      ],
      "execution_count": null,
      "outputs": []
    },
    {
      "cell_type": "code",
      "metadata": {
        "id": "nr5xnKYLqMoO"
      },
      "source": [
        "train_dir = 'train'\n",
        "test_dir = 'test'"
      ],
      "execution_count": null,
      "outputs": []
    },
    {
      "cell_type": "code",
      "metadata": {
        "id": "Zj_MPE0UqPvh"
      },
      "source": [
        "import tensorflow as tf\n",
        "from tensorflow.keras.preprocessing import image\n",
        "img = image.load_img('train/happy/Training_10181727.jpg', target_size=(48,48), color_mode='grayscale')\n",
        "plt.imshow(img)"
      ],
      "execution_count": null,
      "outputs": []
    },
    {
      "cell_type": "code",
      "metadata": {
        "id": "QAQdpe875nj3"
      },
      "source": [
        "train_dir = 'train'\n",
        "test_dir = 'test'\n",
        "\n",
        "row, col = 48, 48\n",
        "classes = 7\n",
        "\n",
        "def count_exp(path, set_):\n",
        "    dict_ = {}\n",
        "    for expression in os.listdir(path):\n",
        "        dir_ = path + expression\n",
        "        dict_[expression] = len(os.listdir(dir_))\n",
        "    df = pd.DataFrame(dict_, index=[set_])\n",
        "    return df\n",
        "    \n",
        "train_count = count_exp(train_dir, 'train')\n",
        "test_count = count_exp(test_dir, 'test')\n",
        "print(train_count)\n",
        "print(test_count)"
      ],
      "execution_count": null,
      "outputs": []
    },
    {
      "cell_type": "code",
      "metadata": {
        "id": "8wNiZU0IrK2G"
      },
      "source": [
        "plt.figure(figsize=(14,22))\n",
        "i = 1\n",
        "for expression in os.listdir(train_dir):\n",
        "    img = load_img((train_dir + expression +'/'+ os.listdir(train_dir + expression)[1]))\n",
        "    plt.subplot(1,7,i)\n",
        "    plt.imshow(img)\n",
        "    plt.title(expression)\n",
        "    plt.axis('off')\n",
        "    i += 1\n",
        "plt.show()"
      ],
      "execution_count": null,
      "outputs": []
    },
    {
      "cell_type": "code",
      "metadata": {
        "id": "EG0nl-aerPbb"
      },
      "source": [
        "train_count.transpose().plot(kind='bar')\n",
        "test_count.transpose().plot(kind='bar')"
      ],
      "execution_count": null,
      "outputs": []
    },
    {
      "cell_type": "code",
      "metadata": {
        "id": "qTqVYrb8qSV5"
      },
      "source": [
        "from tensorflow.keras.preprocessing.image import ImageDataGenerator\n",
        "train_gen = ImageDataGenerator(rotation_range=20,\n",
        "                              rescale=1./255,\n",
        "                              shear_range=0.1,\n",
        "                              zoom_range=0.2,\n",
        "                              horizontal_flip=True,\n",
        "                              width_shift_range=0.1,\n",
        "                              height_shift_range=0.1)\n",
        "\n",
        "training_data = train_gen.flow_from_directory(train_dir,\n",
        "                                             target_size=(224,224),\n",
        "                                             batch_size=64,\n",
        "                                             color_mode = \"grayscale\",\n",
        "                                             class_mode = \"categorical\")"
      ],
      "execution_count": null,
      "outputs": []
    },
    {
      "cell_type": "code",
      "metadata": {
        "id": "QYerBXxvqVjp"
      },
      "source": [
        "valid_gen = ImageDataGenerator(rescale=1./255)\n",
        "\n",
        "valid_data = valid_gen.flow_from_directory(test_dir,\n",
        "                                          target_size=(224,224),\n",
        "                                          batch_size=64,\n",
        "                                          color_mode='grayscale',\n",
        "                                          class_mode='categorical')"
      ],
      "execution_count": null,
      "outputs": []
    },
    {
      "cell_type": "code",
      "metadata": {
        "id": "5GoiVjj1qY2C"
      },
      "source": [
        "from tensorflow.keras.applications.vgg19 import VGG19\n",
        "\n",
        "vgg = VGG19(weights='imagenet', include_top=False)\n",
        "\n",
        "for layer in vgg.layers:\n",
        "    layer.trainable = False"
      ],
      "execution_count": null,
      "outputs": []
    },
    {
      "cell_type": "code",
      "metadata": {
        "id": "6NgcTV2iqb-y"
      },
      "source": [
        "from tensorflow.keras.layers import Conv2D, BatchNormalization, MaxPool2D, Dropout, Flatten, Dense, Input\n",
        "from tensorflow.keras.models import Model\n",
        "\n",
        "input = Input(shape=(224,224,1))\n",
        "\n",
        "conv = Conv2D(3, kernel_size=(3,3), padding='same')(input)\n",
        "\n",
        "vgg = vgg(conv)\n",
        "    \n",
        "x = Flatten()(vgg)\n",
        "\n",
        "pred = Dense(7, activation='softmax')(x)\n",
        "\n",
        "model = Model(inputs=input, outputs=pred)"
      ],
      "execution_count": null,
      "outputs": []
    },
    {
      "cell_type": "code",
      "metadata": {
        "id": "nd7XB7_IqoxR"
      },
      "source": [
        "model.summary()"
      ],
      "execution_count": null,
      "outputs": []
    },
    {
      "cell_type": "code",
      "metadata": {
        "id": "-JdElniYqqT3"
      },
      "source": [
        "from tensorflow.keras.optimizers import Adam\n",
        "opt = Adam(learning_rate=0.0001)\n",
        "\n",
        "model.compile(optimizer = opt,\n",
        "              loss='categorical_crossentropy',\n",
        "              metrics=['accuracy']\n",
        ")"
      ],
      "execution_count": null,
      "outputs": []
    },
    {
      "cell_type": "code",
      "metadata": {
        "id": "BM0Y8hmWqscI"
      },
      "source": [
        "history = model.fit(training_data, epochs=100, validation_data = valid_data)"
      ],
      "execution_count": null,
      "outputs": []
    },
    {
      "cell_type": "code",
      "metadata": {
        "id": "HCFXQoNWqulu"
      },
      "source": [
        "fig , ax = plt.subplots(1,2)\n",
        "train_acc = history.history['accuracy']\n",
        "train_loss = history.history['loss']\n",
        "fig.set_size_inches(12,4)\n",
        "\n",
        "ax[0].plot(history.history['accuracy'])\n",
        "ax[0].plot(history.history['val_accuracy'])\n",
        "ax[0].set_title('Training Accuracy vs Validation Accuracy')\n",
        "ax[0].set_ylabel('Accuracy')\n",
        "ax[0].set_xlabel('Epoch')\n",
        "ax[0].legend(['Train', 'Validation'], loc='upper left')\n",
        "\n",
        "ax[1].plot(history.history['loss'])\n",
        "ax[1].plot(history.history['val_loss'])\n",
        "ax[1].set_title('Training Loss vs Validation Loss')\n",
        "ax[1].set_ylabel('Loss')\n",
        "ax[1].set_xlabel('Epoch')\n",
        "ax[1].legend(['Train', 'Validation'], loc='upper left')\n",
        "\n",
        "plt.show()"
      ],
      "execution_count": null,
      "outputs": []
    },
    {
      "cell_type": "code",
      "metadata": {
        "id": "LvG0yZ8dqzGN"
      },
      "source": [
        "train_loss, train_acc = model.evaluate(training_data)\n",
        "test_loss, test_acc = model.evaluate(valid_data)"
      ],
      "execution_count": null,
      "outputs": []
    },
    {
      "cell_type": "code",
      "metadata": {
        "id": "xxydIyqYq2bB"
      },
      "source": [
        "test_img = image.load_img('test/angry/PrivateTest_13278552.jpg',target_size = (224,224),color_mode = \"grayscale\")\n",
        "plt.imshow(test_img)"
      ],
      "execution_count": null,
      "outputs": []
    },
    {
      "cell_type": "code",
      "metadata": {
        "id": "j6kBKpKZ79zO"
      },
      "source": [
        "from google.colab import files\n",
        "test_img = files.upload()\n",
        "plt.imshow(test_img)\n"
      ],
      "execution_count": null,
      "outputs": []
    },
    {
      "cell_type": "code",
      "metadata": {
        "id": "0QdaD8pmq4VD"
      },
      "source": [
        "label_dict = {0:'Angry',1:'Disgust',2:'Fear',3:'Happy',4:'Neutral',5:'Sad',6:'Surprise'}\n",
        "\n",
        "test_img = np.expand_dims(test_img,axis = 0)\n",
        "test_img = test_img.reshape(1,224,224,1)\n",
        "result = model.predict(test_img)\n",
        "result = list(result[0])\n",
        "\n",
        "img_index = result.index(max(result))\n",
        "print(label_dict[img_index])"
      ],
      "execution_count": null,
      "outputs": []
    },
    {
      "cell_type": "code",
      "metadata": {
        "id": "e-Eb9UkXq8YW"
      },
      "source": [
        "model.save('model_optimal.h5')"
      ],
      "execution_count": null,
      "outputs": []
    }
  ]
}