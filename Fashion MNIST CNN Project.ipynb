{
  "nbformat": 4,
  "nbformat_minor": 0,
  "metadata": {
    "colab": {
      "name": "Fashion-MNIST-ANN.ipynb",
      "provenance": [],
      "collapsed_sections": []
    },
    "kernelspec": {
      "name": "python3",
      "display_name": "Python 3"
    }
  },
  "cells": [
    {
      "cell_type": "markdown",
      "source": [
        "Code by Kartik Kumar Srivastava <br>\n",
        "**Project: Fashion MNIST CNN Analysis** <br>\n",
        "This Project is based on CNN and can identify the facial features of a human face and predict their mood, based on facial features"
      ],
      "metadata": {
        "id": "KgUTiD-VbKoM"
      }
    },
    {
      "cell_type": "code",
      "metadata": {
        "id": "sAh2zE7lUs80",
        "outputId": "6fdc2b60-0bae-4702-bb2b-ad54bd86b482",
        "colab": {
          "base_uri": "https://localhost:8080/",
          "height": 34
        }
      },
      "source": [
        "# Importing Packages\n",
        "import numpy as np\n",
        "import keras\n",
        "from keras.models import Sequential\n",
        "from keras.layers import Flatten, Dense\n",
        "import matplotlib.pyplot as plt\n",
        "%matplotlib inline"
      ],
      "execution_count": null,
      "outputs": [
        {
          "output_type": "stream",
          "text": [
            "Using TensorFlow backend.\n"
          ],
          "name": "stderr"
        }
      ]
    },
    {
      "cell_type": "markdown",
      "metadata": {
        "id": "XQrAUkwsqGmZ"
      },
      "source": [
        "The Fashion MNIST datasets has 70,000 28x28 grayscale images. The class labels are :\n",
        "\n",
        "\n",
        "---\n",
        "\n",
        "\n",
        "Label\tDescription\n",
        "\n",
        "0 T-shirt/top\n",
        "\n",
        "\n",
        "1\tTrouser\n",
        "\n",
        "2\tPullover\n",
        "\n",
        "3\tDress\n",
        "\n",
        "4\tCoat\n",
        "\n",
        "5\tSandal\n",
        "\n",
        "6\tShirt\n",
        "\n",
        "7\tSneaker\n",
        "\n",
        "8\tBag\n",
        "\n",
        "9\tAnkle boot"
      ]
    },
    {
      "cell_type": "code",
      "metadata": {
        "id": "KQwX9_K-YaQ1",
        "outputId": "e215b5ab-45b7-4813-9b66-92c7d6d4130b",
        "colab": {
          "base_uri": "https://localhost:8080/",
          "height": 451
        }
      },
      "source": [
        "# Loading Dataset\n",
        "from keras.datasets import fashion_mnist\n",
        "(x_train, x_lab),(y_test, y_lab) = fashion_mnist.load_data()\n",
        "plt.imshow(x_train[0])\n",
        "plt.title('Class: {}'.format(x_lab[0]))\n",
        "plt.figure()"
      ],
      "execution_count": null,
      "outputs": [
        {
          "output_type": "stream",
          "text": [
            "Downloading data from http://fashion-mnist.s3-website.eu-central-1.amazonaws.com/train-labels-idx1-ubyte.gz\n",
            "32768/29515 [=================================] - 0s 0us/step\n",
            "Downloading data from http://fashion-mnist.s3-website.eu-central-1.amazonaws.com/train-images-idx3-ubyte.gz\n",
            "26427392/26421880 [==============================] - 0s 0us/step\n",
            "Downloading data from http://fashion-mnist.s3-website.eu-central-1.amazonaws.com/t10k-labels-idx1-ubyte.gz\n",
            "8192/5148 [===============================================] - 0s 0us/step\n",
            "Downloading data from http://fashion-mnist.s3-website.eu-central-1.amazonaws.com/t10k-images-idx3-ubyte.gz\n",
            "4423680/4422102 [==============================] - 0s 0us/step\n"
          ],
          "name": "stdout"
        },
        {
          "output_type": "execute_result",
          "data": {
            "text/plain": [
              "<Figure size 432x288 with 0 Axes>"
            ]
          },
          "metadata": {
            "tags": []
          },
          "execution_count": 2
        },
        {
          "output_type": "display_data",
          "data": {
            "image/png": "[encoded data removed]",
            "text/plain": [
              "<Figure size 432x288 with 1 Axes>"
            ]
          },
          "metadata": {
            "tags": [],
            "needs_background": "light"
          }
        },
        {
          "output_type": "display_data",
          "data": {
            "text/plain": [
              "<Figure size 432x288 with 0 Axes>"
            ]
          },
          "metadata": {
            "tags": []
          }
        }
      ]
    },
    {
      "cell_type": "code",
      "metadata": {
        "id": "xqg-nF3ubajU",
        "outputId": "b3f8af4d-48fe-487e-a2ac-45bc12dc4d82",
        "colab": {
          "base_uri": "https://localhost:8080/",
          "height": 315
        }
      },
      "source": [
        "# Normalizing the Data\n",
        "x_train = keras.utils.normalize(x_train, axis = 1)\n",
        "y_test = keras.utils.normalize(y_test, axis = 1)\n",
        "plt.imshow(x_train[0])\n",
        "plt.title('Class: {}'.format(x_lab[0]))\n",
        "plt.figure()"
      ],
      "execution_count": null,
      "outputs": [
        {
          "output_type": "execute_result",
          "data": {
            "text/plain": [
              "<Figure size 432x288 with 0 Axes>"
            ]
          },
          "metadata": {
            "tags": []
          },
          "execution_count": 3
        },
        {
          "output_type": "display_data",
          "data": {
            "image/png": "[encoded data removed]",
            "text/plain": [
              "<Figure size 432x288 with 1 Axes>"
            ]
          },
          "metadata": {
            "tags": [],
            "needs_background": "light"
          }
        },
        {
          "output_type": "display_data",
          "data": {
            "text/plain": [
              "<Figure size 432x288 with 0 Axes>"
            ]
          },
          "metadata": {
            "tags": []
          }
        }
      ]
    },
    {
      "cell_type": "code",
      "metadata": {
        "id": "-be7HUD-w4De",
        "outputId": "03e9f910-6658-4993-d273-f9c539cc4c6c",
        "colab": {
          "base_uri": "https://localhost:8080/",
          "height": 714
        }
      },
      "source": [
        "# Defining the Model\n",
        "model = Sequential()\n",
        "model.add(Flatten(input_shape=((28,28))))\n",
        "model.add(Dense(200, activation=\"relu\"))\n",
        "model.add(Dense(10, activation=\"softmax\"))\n",
        "\n",
        "# Compiling the Model\n",
        "model.compile(optimizer = \"adam\", loss=\"sparse_categorical_crossentropy\", metrics = [\"accuracy\"])\n",
        "\n",
        "# Fitting the Model\n",
        "model.fit(x_train, x_lab, epochs = 20)"
      ],
      "execution_count": null,
      "outputs": [
        {
          "output_type": "stream",
          "text": [
            "Epoch 1/20\n",
            "60000/60000 [==============================] - 8s 141us/step - loss: 0.4945 - accuracy: 0.8220\n",
            "Epoch 2/20\n",
            "60000/60000 [==============================] - 8s 137us/step - loss: 0.3624 - accuracy: 0.8675\n",
            "Epoch 3/20\n",
            "60000/60000 [==============================] - 8s 135us/step - loss: 0.3226 - accuracy: 0.8813\n",
            "Epoch 4/20\n",
            "60000/60000 [==============================] - 8s 133us/step - loss: 0.3004 - accuracy: 0.8875\n",
            "Epoch 5/20\n",
            "60000/60000 [==============================] - 8s 137us/step - loss: 0.2790 - accuracy: 0.8953\n",
            "Epoch 6/20\n",
            "60000/60000 [==============================] - 8s 135us/step - loss: 0.2635 - accuracy: 0.9014\n",
            "Epoch 7/20\n",
            "60000/60000 [==============================] - 8s 132us/step - loss: 0.2486 - accuracy: 0.9062\n",
            "Epoch 8/20\n",
            "60000/60000 [==============================] - 8s 134us/step - loss: 0.2382 - accuracy: 0.9108\n",
            "Epoch 9/20\n",
            "60000/60000 [==============================] - 8s 135us/step - loss: 0.2262 - accuracy: 0.9141\n",
            "Epoch 10/20\n",
            "60000/60000 [==============================] - 8s 135us/step - loss: 0.2149 - accuracy: 0.9194\n",
            "Epoch 11/20\n",
            "60000/60000 [==============================] - 8s 136us/step - loss: 0.2073 - accuracy: 0.9218\n",
            "Epoch 12/20\n",
            "60000/60000 [==============================] - 8s 135us/step - loss: 0.1977 - accuracy: 0.9252\n",
            "Epoch 13/20\n",
            "60000/60000 [==============================] - 8s 131us/step - loss: 0.1893 - accuracy: 0.9285\n",
            "Epoch 14/20\n",
            "60000/60000 [==============================] - 8s 131us/step - loss: 0.1826 - accuracy: 0.9309\n",
            "Epoch 15/20\n",
            "60000/60000 [==============================] - 8s 130us/step - loss: 0.1768 - accuracy: 0.9331\n",
            "Epoch 16/20\n",
            "60000/60000 [==============================] - 9s 142us/step - loss: 0.1685 - accuracy: 0.9366\n",
            "Epoch 17/20\n",
            "60000/60000 [==============================] - 9s 157us/step - loss: 0.1624 - accuracy: 0.9385\n",
            "Epoch 18/20\n",
            "60000/60000 [==============================] - 8s 129us/step - loss: 0.1575 - accuracy: 0.9412\n",
            "Epoch 19/20\n",
            "60000/60000 [==============================] - 8s 131us/step - loss: 0.1508 - accuracy: 0.9434\n",
            "Epoch 20/20\n",
            "60000/60000 [==============================] - 8s 136us/step - loss: 0.1457 - accuracy: 0.9452\n"
          ],
          "name": "stdout"
        },
        {
          "output_type": "execute_result",
          "data": {
            "text/plain": [
              "<keras.callbacks.callbacks.History at 0x7fa45b0e62b0>"
            ]
          },
          "metadata": {
            "tags": []
          },
          "execution_count": 4
        }
      ]
    },
    {
      "cell_type": "code",
      "metadata": {
        "id": "_A6YkWe31zlH",
        "outputId": "53d8f241-de3f-4deb-f292-7e297d89013e",
        "colab": {
          "base_uri": "https://localhost:8080/",
          "height": 51
        }
      },
      "source": [
        "# Evaluating on the Test Data\n",
        "model.evaluate(y_test, y_lab)"
      ],
      "execution_count": null,
      "outputs": [
        {
          "output_type": "stream",
          "text": [
            "10000/10000 [==============================] - 0s 37us/step\n"
          ],
          "name": "stdout"
        },
        {
          "output_type": "execute_result",
          "data": {
            "text/plain": [
              "[0.39734082596302034, 0.8784999847412109]"
            ]
          },
          "metadata": {
            "tags": []
          },
          "execution_count": 5
        }
      ]
    },
    {
      "cell_type": "code",
      "metadata": {
        "id": "3_OsfKb52gvF",
        "outputId": "14816b4e-d4ca-4283-9aae-7dc5c78df066",
        "colab": {
          "base_uri": "https://localhost:8080/",
          "height": 527
        }
      },
      "source": [
        "# Predict the first 10 images, Probability Distribution\n",
        "p = model.predict(y_test[:10])\n",
        "print(p)"
      ],
      "execution_count": null,
      "outputs": [
        {
          "output_type": "stream",
          "text": [
            "[[1.55650818e-12 2.49745653e-16 1.95375804e-09 1.85846113e-11\n",
            "  5.15285210e-12 2.88574142e-07 2.71171613e-10 9.76626234e-06\n",
            "  7.34742302e-12 9.99989986e-01]\n",
            " [2.57405895e-03 1.57324279e-10 9.71505940e-01 3.43803208e-08\n",
            "  2.51567382e-02 9.75496960e-07 7.61428615e-04 1.20663316e-07\n",
            "  9.13215892e-10 6.06367962e-07]\n",
            " [3.27276872e-08 1.00000000e+00 4.07492963e-12 1.06049383e-08\n",
            "  5.84543733e-11 5.13111587e-14 1.78057694e-10 2.45411385e-16\n",
            "  7.14311856e-13 6.97391236e-16]\n",
            " [7.50909820e-11 1.00000000e+00 1.76115870e-14 2.15220752e-09\n",
            "  2.12298193e-10 1.84019390e-15 5.22524211e-12 4.69097972e-18\n",
            "  4.47710996e-15 6.31208994e-18]\n",
            " [2.87012309e-01 6.50544809e-12 4.10996116e-04 5.23976050e-05\n",
            "  2.65868590e-03 4.20545007e-07 7.09865153e-01 3.79081280e-11\n",
            "  2.20169181e-08 5.05029529e-09]\n",
            " [4.00992030e-06 9.99995708e-01 9.23665233e-09 6.22400904e-08\n",
            "  8.18119688e-08 1.20216955e-14 1.48919908e-08 1.27312047e-13\n",
            "  5.81237836e-12 9.90228632e-16]\n",
            " [1.73635115e-08 2.29793753e-11 2.21936521e-03 1.92201852e-10\n",
            "  9.97780025e-01 2.03038517e-10 5.75563945e-07 2.18030871e-11\n",
            "  3.09135031e-12 3.55856233e-09]\n",
            " [1.32255124e-07 1.61231514e-11 3.42338928e-04 4.17671259e-10\n",
            "  2.95810890e-03 6.58915909e-08 9.96698439e-01 1.71511116e-09\n",
            "  5.16837406e-10 8.38237042e-07]\n",
            " [7.06924685e-14 2.48549411e-18 7.24535837e-17 3.03935194e-16\n",
            "  1.09861347e-20 1.00000000e+00 3.50440190e-13 2.11487754e-11\n",
            "  1.08619559e-12 8.98039634e-18]\n",
            " [4.16633603e-11 7.12603736e-15 6.10589263e-19 1.60731516e-17\n",
            "  1.07938856e-17 5.26242047e-07 2.84146096e-14 9.99998689e-01\n",
            "  7.98086375e-10 7.80449454e-07]]\n"
          ],
          "name": "stdout"
        }
      ]
    },
    {
      "cell_type": "code",
      "metadata": {
        "id": "leDAxVkyNu5w",
        "outputId": "36745d4a-67ba-4a5b-992f-a8463becaffc",
        "colab": {
          "base_uri": "https://localhost:8080/",
          "height": 51
        }
      },
      "source": [
        "pred = np.argmax(p, axis=1)\n",
        "print(pred)\n",
        "print(y_lab[:10])"
      ],
      "execution_count": null,
      "outputs": [
        {
          "output_type": "stream",
          "text": [
            "[9 2 1 1 6 1 4 6 5 7]\n",
            "[9 2 1 1 6 1 4 6 5 7]\n"
          ],
          "name": "stdout"
        }
      ]
    },
    {
      "cell_type": "code",
      "metadata": {
        "id": "oBVIx8XEN6PB",
        "outputId": "ad3a9e76-58f4-4ddc-d04d-88e15a149d9f",
        "colab": {
          "base_uri": "https://localhost:8080/",
          "height": 1000
        }
      },
      "source": [
        "# Visualizing the result\n",
        "for i in range(10):\n",
        "  plt.imshow(y_test[i], cmap=\"binary\")\n",
        "  plt.title('Original: {}, Predicted: {}'.format(y_lab[i], pred[i]))\n",
        "  plt.axis(\"Off\")\n",
        "  plt.figure()"
      ],
      "execution_count": null,
      "outputs": [
        {
          "output_type": "display_data",
          "data": {
            "image/png": "[encoded data removed]",
            "text/plain": [
              "<Figure size 432x288 with 1 Axes>"
            ]
          },
          "metadata": {
            "tags": [],
            "needs_background": "light"
          }
        },
        {
          "output_type": "display_data",
          "data": {
            "image/png": "[encoded data removed]",
            "text/plain": [
              "<Figure size 432x288 with 1 Axes>"
            ]
          },
          "metadata": {
            "tags": [],
            "needs_background": "light"
          }
        },
        {
          "output_type": "display_data",
          "data": {
            "image/png": "[encoded data removed]",
            "text/plain": [
              "<Figure size 432x288 with 1 Axes>"
            ]
          },
          "metadata": {
            "tags": [],
            "needs_background": "light"
          }
        },
        {
          "output_type": "display_data",
          "data": {
            "image/png": "[encoded data removed]",
            "text/plain": [
              "<Figure size 432x288 with 1 Axes>"
            ]
          },
          "metadata": {
            "tags": [],
            "needs_background": "light"
          }
        },
        {
          "output_type": "display_data",
          "data": {
            "image/png": "[encoded data removed]",
            "text/plain": [
              "<Figure size 432x288 with 1 Axes>"
            ]
          },
          "metadata": {
            "tags": [],
            "needs_background": "light"
          }
        },
        {
          "output_type": "display_data",
          "data": {
            "image/png": "[encoded data removed]",
            "text/plain": [
              "<Figure size 432x288 with 1 Axes>"
            ]
          },
          "metadata": {
            "tags": [],
            "needs_background": "light"
          }
        },
        {
          "output_type": "display_data",
          "data": {
            "image/png": "[encoded data removed]",
            "text/plain": [
              "<Figure size 432x288 with 1 Axes>"
            ]
          },
          "metadata": {
            "tags": [],
            "needs_background": "light"
          }
        },
        {
          "output_type": "display_data",
          "data": {
            "image/png": "[encoded data removed]",
            "text/plain": [
              "<Figure size 432x288 with 1 Axes>"
            ]
          },
          "metadata": {
            "tags": [],
            "needs_background": "light"
          }
        },
        {
          "output_type": "display_data",
          "data": {
            "image/png": "[encoded data removed]",
            "text/plain": [
              "<Figure size 432x288 with 1 Axes>"
            ]
          },
          "metadata": {
            "tags": [],
            "needs_background": "light"
          }
        },
        {
          "output_type": "display_data",
          "data": {
            "image/png": "[encoded data removed]",
            "text/plain": [
              "<Figure size 432x288 with 1 Axes>"
            ]
          },
          "metadata": {
            "tags": [],
            "needs_background": "light"
          }
        },
        {
          "output_type": "display_data",
          "data": {
            "text/plain": [
              "<Figure size 432x288 with 0 Axes>"
            ]
          },
          "metadata": {
            "tags": []
          }
        }
      ]
    }
  ]
}